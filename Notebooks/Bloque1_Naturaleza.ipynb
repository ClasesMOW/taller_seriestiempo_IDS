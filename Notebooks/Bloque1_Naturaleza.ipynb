{
 "cells": [
  {
   "cell_type": "markdown",
   "metadata": {},
   "source": [
    "# Bloque 1: Naturaleza de las series de tiempo\n",
    "\n",
    "Melanie Oyarzún W.\n",
    "\n",
    "\n",
    "**Resultado de aprendizaje esperado:**\n",
    "\n",
    "Identificar datos de series temporales, sus particularidades y riesgos, en el contexto de posibles aplicaciones profesionales.\n",
    "\n",
    "![Cuidado al estimar](slide_figuras/spurius.png)\n"
   ]
  }
 ],
 "metadata": {
  "language_info": {
   "name": "python"
  },
  "orig_nbformat": 4
 },
 "nbformat": 4,
 "nbformat_minor": 2
}
